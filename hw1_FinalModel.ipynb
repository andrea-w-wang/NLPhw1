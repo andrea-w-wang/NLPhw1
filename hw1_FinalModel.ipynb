{
 "cells": [
  {
   "cell_type": "code",
   "execution_count": 2,
   "metadata": {},
   "outputs": [],
   "source": [
    "import pickle as pk\n",
    "from imdb_indexer import word2index\n",
    "import numpy as np\n",
    "import pandas as pd\n",
    "import itertools\n",
    "import os\n",
    "from functions import make_ngram, uptoNgram\n",
    "import tqdm\n",
    "import matplotlib.pyplot as plt\n",
    "from bow import BagOfWords, test_model\n"
   ]
  },
  {
   "cell_type": "code",
   "execution_count": 3,
   "metadata": {},
   "outputs": [],
   "source": [
    "import numpy as np\n",
    "import torch\n",
    "from torch.utils.data import Dataset\n",
    "\n",
    "class IMDbDataset(Dataset):\n",
    "    \"\"\"\n",
    "    Class that represents a train/validation/test dataset that's readable for PyTorch\n",
    "    Note that this class inherits torch.utils.data.Dataset\n",
    "    \"\"\"\n",
    "    \n",
    "    def __init__(self, data_list, target_list):\n",
    "        \"\"\"\n",
    "        @param data_list: list of newsgroup tokens \n",
    "        @param target_list: list of newsgroup targets \n",
    "\n",
    "        \"\"\"\n",
    "        self.data_list = data_list\n",
    "        self.target_list = target_list\n",
    "        assert (len(self.data_list) == len(self.target_list))\n",
    "\n",
    "    def __len__(self):\n",
    "        return len(self.data_list)\n",
    "        \n",
    "    def __getitem__(self, key):\n",
    "        \"\"\"\n",
    "        Triggered when you call dataset[i]\n",
    "        \"\"\"\n",
    "        \n",
    "        token_idx = self.data_list[key][:MAX_SENTENCE_LENGTH]\n",
    "        label = self.target_list[key]\n",
    "        return [token_idx, len(token_idx), label]\n",
    "\n",
    "def imdb_collate_func(batch):\n",
    "    \"\"\"\n",
    "    Customized function for DataLoader that dynamically pads the batch so that all \n",
    "    data have the same length\n",
    "    \"\"\"\n",
    "    data_list = []\n",
    "    label_list = []\n",
    "    length_list = []\n",
    "    #print(\"collate batch: \", batch[0][0])\n",
    "    #batch[0][0] = batch[0][0][:MAX_SENTENCE_LENGTH]\n",
    "    for datum in batch:\n",
    "        label_list.append(datum[2])\n",
    "        length_list.append(datum[1])\n",
    "    # padding\n",
    "    for datum in batch:\n",
    "        padded_vec = np.pad(np.array(datum[0]), \n",
    "                                pad_width=((0,MAX_SENTENCE_LENGTH-datum[1])), \n",
    "                                mode=\"constant\", constant_values=0)\n",
    "        data_list.append(padded_vec)\n",
    "    return [torch.from_numpy(np.array(data_list)), torch.LongTensor(length_list), torch.LongTensor(label_list)]"
   ]
  },
  {
   "cell_type": "markdown",
   "metadata": {},
   "source": [
    "## setting: \n",
    "### nltk tokenization, 1+2-gram, vocab_size =50000,  emb_size = 300, adam optimizer, learning rate = 0.01, max sentence length = 90 percentile of training feature length"
   ]
  },
  {
   "cell_type": "code",
   "execution_count": 4,
   "metadata": {},
   "outputs": [],
   "source": [
    "ngram_dct = pk.load(open(\"ngram_dct_nltk.pk\", \"rb\"))\n",
    "train_label = pk.load(open(\"train_label.pk\", \"rb\"))\n",
    "test_label = pk.load(open(\"test_label.pk\", \"rb\"))\n",
    "val_label = pk.load(open(\"val_label.pk\", \"rb\"))"
   ]
  },
  {
   "cell_type": "code",
   "execution_count": 9,
   "metadata": {},
   "outputs": [],
   "source": [
    "#create upto2gram_nltk first\n",
    "upto2gram = uptoNgram(2, ngram_dct)"
   ]
  },
  {
   "cell_type": "code",
   "execution_count": 10,
   "metadata": {},
   "outputs": [
    {
     "data": {
      "text/plain": [
       "dict_keys(['train', 'val', 'test'])"
      ]
     },
     "execution_count": 10,
     "metadata": {},
     "output_type": "execute_result"
    }
   ],
   "source": [
    "upto2gram.keys()"
   ]
  },
  {
   "cell_type": "code",
   "execution_count": 11,
   "metadata": {},
   "outputs": [],
   "source": [
    "train_features = upto2gram['train']\n",
    "val_features = upto2gram['val']\n",
    "test_features = upto2gram['test']"
   ]
  },
  {
   "cell_type": "code",
   "execution_count": 17,
   "metadata": {},
   "outputs": [
    {
     "name": "stdout",
     "output_type": "stream",
     "text": [
      "['hear', 'prais', 'thi', 'play', 'decid', 'watch', 'stumbl', 'across', 'cabl', 'see', 'thi', 'eliv', 'women', 'struggl', 'focus', 'topic', 'hand', 'guess', 'interest', 'stori', 'women', 'privat', 'part', 'affect', 'live', 'thi', 'otherwis', 'rather', 'dull', 'bore', 'anyth', 'found', 'bit', 'br', 'br', 'inquir', 'femal', 'friend', 'also', 'watch', 'thi', 'thought', 'wa', 'horribl', 'well', 'guy', 'get', 'hear prais', 'prais thi', 'thi play', 'play decid', 'decid watch', 'watch stumbl', 'stumbl across', 'across cabl', 'cabl see', 'see thi', 'thi eliv', 'eliv women', 'women struggl', 'struggl focus', 'focus topic', 'topic hand', 'hand guess', 'guess interest', 'interest stori', 'stori women', 'women privat', 'privat part', 'part affect', 'affect live', 'live thi', 'thi otherwis', 'otherwis rather', 'rather dull', 'dull bore', 'bore anyth', 'anyth found', 'found bit', 'bit br', 'br br', 'br inquir', 'inquir femal', 'femal friend', 'friend also', 'also watch', 'watch thi', 'thi thought', 'thought wa', 'wa horribl', 'horribl well', 'well guy', 'guy get']\n"
     ]
    }
   ],
   "source": [
    "print(train_features[1])"
   ]
  },
  {
   "cell_type": "code",
   "execution_count": 18,
   "metadata": {},
   "outputs": [
    {
     "data": {
      "text/plain": [
       "505"
      ]
     },
     "execution_count": 18,
     "metadata": {},
     "output_type": "execute_result"
    }
   ],
   "source": [
    "feature_length = np.array([len(x) for x in train_features])\n",
    "MAX_SENTENCE_LENGTH = int(np.percentile(feature_length, 90))\n",
    "MAX_SENTENCE_LENGTH"
   ]
  },
  {
   "cell_type": "code",
   "execution_count": 19,
   "metadata": {},
   "outputs": [],
   "source": [
    "max_vocab_size = 50000\n",
    "learning_rate = 0.01\n",
    "num_epochs = 10\n",
    "emb_dim = 300\n",
    "\n",
    "PAD_IDX = 0\n",
    "UNK_IDX = 1\n",
    "all_train_features = list(itertools.chain.from_iterable(train_features))\n",
    "\n",
    "builder = word2index(PAD_IDX, UNK_IDX)\n",
    "#build vocab\n",
    "token2id, id2token = builder.build_vocab(all_train_features, max_vocab_size)\n",
    "train_data_indices = builder.token2index_dataset(train_features)\n",
    "val_data_indices = builder.token2index_dataset(val_features)\n",
    "test_data_indices = builder.token2index_dataset(test_features)\n",
    "\n",
    "\n",
    "# create pytorch dataloader\n",
    "BATCH_SIZE = 64\n",
    "train_dataset = IMDbDataset(train_data_indices, train_label)\n",
    "train_loader = torch.utils.data.DataLoader(dataset=train_dataset, \n",
    "                                           batch_size=BATCH_SIZE,\n",
    "                                           collate_fn=imdb_collate_func,\n",
    "                                           shuffle=True)\n",
    "\n",
    "val_dataset = IMDbDataset(val_data_indices, val_label)\n",
    "val_loader = torch.utils.data.DataLoader(dataset=val_dataset, \n",
    "                                           batch_size=BATCH_SIZE,\n",
    "                                           collate_fn=imdb_collate_func,\n",
    "                                           shuffle=True)\n",
    "\n",
    "test_dataset = IMDbDataset(test_data_indices, test_label)\n",
    "test_loader = torch.utils.data.DataLoader(dataset=test_dataset, \n",
    "                                           batch_size=BATCH_SIZE,\n",
    "                                           collate_fn=imdb_collate_func,\n",
    "                                           shuffle=False)\n",
    "\n",
    "\n",
    "model = BagOfWords(len(id2token), emb_dim)\n",
    "\n",
    "# Criterion and Optimizer\n",
    "criterion = torch.nn.CrossEntropyLoss()  \n",
    "optimizer = torch.optim.Adam(model.parameters(), lr = learning_rate)\n",
    "val_acc_list = []\n",
    "for epoch in tqdm.trange(num_epochs):\n",
    "    for i, (data, lengths, labels) in enumerate(train_loader):\n",
    "        model.train()\n",
    "        data_batch, length_batch, label_batch = data, lengths, labels\n",
    "        optimizer.zero_grad()\n",
    "        outputs = model(data_batch, length_batch)\n",
    "        loss = criterion(outputs, label_batch)\n",
    "        loss.backward()\n",
    "        val_acc = test_model(val_loader, model)\n",
    "        optimizer.step()\n",
    "\n",
    "    val_acc_list.append(val_acc)\n",
    "\n",
    "print('finish, val_acc: %s' %(test_model(val_loader, model)))"
   ]
  },
  {
   "cell_type": "code",
   "execution_count": 22,
   "metadata": {},
   "outputs": [
    {
     "data": {
      "text/plain": [
       "88.86"
      ]
     },
     "execution_count": 22,
     "metadata": {},
     "output_type": "execute_result"
    }
   ],
   "source": [
    "val_acc"
   ]
  },
  {
   "cell_type": "code",
   "execution_count": 24,
   "metadata": {},
   "outputs": [
    {
     "data": {
      "text/plain": [
       "Text(0.5,1,'final model')"
      ]
     },
     "execution_count": 24,
     "metadata": {},
     "output_type": "execute_result"
    },
    {
     "data": {
      "image/png": "[encoded data removed]",
      "text/plain": [
       "<Figure size 432x288 with 1 Axes>"
      ]
     },
     "metadata": {
      "needs_background": "light"
     },
     "output_type": "display_data"
    }
   ],
   "source": [
    "plt.plot(np.arange(1,num_epochs+1), val_acc_list)\n",
    "#plt.legend()\n",
    "plt.ylabel('validation accuracy')\n",
    "plt.xlabel('epochs')\n",
    "plt.title('final model')"
   ]
  },
  {
   "cell_type": "code",
   "execution_count": 26,
   "metadata": {},
   "outputs": [],
   "source": [
    "val_acc_list_2 = []"
   ]
  },
  {
   "cell_type": "code",
   "execution_count": null,
   "metadata": {},
   "outputs": [
    {
     "name": "stderr",
     "output_type": "stream",
     "text": [
      "\n",
      "\n",
      "  0%|          | 0/10 [00:00<?, ?it/s]\u001b[A\u001b[A\n",
      "\n",
      " 10%|█         | 1/10 [08:42<1:18:22, 522.52s/it]\u001b[A\u001b[A\n",
      "\n",
      " 20%|██        | 2/10 [17:23<1:09:33, 521.73s/it]\u001b[A\u001b[A\n",
      "\n",
      " 30%|███       | 3/10 [26:07<1:00:56, 522.40s/it]\u001b[A\u001b[A\n",
      "\n",
      " 40%|████      | 4/10 [34:47<52:11, 521.92s/it]  \u001b[A\u001b[A"
     ]
    }
   ],
   "source": [
    "max_vocab_size = 50000\n",
    "learning_rate = 0.001\n",
    "num_epochs = 10\n",
    "emb_dim = 300\n",
    "\n",
    "model = BagOfWords(len(id2token), emb_dim)\n",
    "\n",
    "# Criterion and Optimizer\n",
    "criterion = torch.nn.CrossEntropyLoss()  \n",
    "optimizer = torch.optim.Adam(model.parameters(), lr = learning_rate)\n",
    "val_acc_list = []\n",
    "for epoch in tqdm.trange(num_epochs):\n",
    "    for i, (data, lengths, labels) in enumerate(train_loader):\n",
    "        model.train()\n",
    "        data_batch, length_batch, label_batch = data, lengths, labels\n",
    "        optimizer.zero_grad()\n",
    "        outputs = model(data_batch, length_batch)\n",
    "        loss = criterion(outputs, label_batch)\n",
    "        loss.backward()\n",
    "        val_acc = test_model(val_loader, model)\n",
    "        optimizer.step()\n",
    "\n",
    "    val_acc_list_2.append(val_acc)\n",
    "\n",
    "print('finish, val_acc: %s' %(test_model(val_loader, model)))"
   ]
  },
  {
   "cell_type": "code",
   "execution_count": null,
   "metadata": {},
   "outputs": [],
   "source": []
  }
 ],
 "metadata": {
  "kernelspec": {
   "display_name": "Python 3",
   "language": "python",
   "name": "python3"
  },
  "language_info": {
   "codemirror_mode": {
    "name": "ipython",
    "version": 3
   },
   "file_extension": ".py",
   "mimetype": "text/x-python",
   "name": "python",
   "nbconvert_exporter": "python",
   "pygments_lexer": "ipython3",
   "version": "3.6.6"
  }
 },
 "nbformat": 4,
 "nbformat_minor": 2
}
