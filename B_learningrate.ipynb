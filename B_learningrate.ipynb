{
 "cells": [
  {
   "cell_type": "code",
   "execution_count": 1,
   "metadata": {},
   "outputs": [],
   "source": [
    "import pickle as pk\n",
    "from imdb_indexer import word2index\n",
    "import numpy as np\n",
    "import pandas as pd\n",
    "import itertools\n",
    "import os\n",
    "from functions import make_ngram, uptoNgram\n",
    "import tqdm\n",
    "import matplotlib.pyplot as plt\n",
    "from bow import BagOfWords, test_model\n"
   ]
  },
  {
   "cell_type": "code",
   "execution_count": 2,
   "metadata": {},
   "outputs": [],
   "source": [
    "ngram_dct = pk.load(open(\"ngram_dct.pk\", \"rb\"))\n",
    "train_label = pk.load(open(\"train_label.pk\", \"rb\"))\n",
    "test_label = pk.load(open(\"test_label.pk\", \"rb\"))\n",
    "val_label = pk.load(open(\"val_label.pk\", \"rb\"))\n"
   ]
  },
  {
   "cell_type": "code",
   "execution_count": 3,
   "metadata": {},
   "outputs": [],
   "source": [
    "import numpy as np\n",
    "import torch\n",
    "from torch.utils.data import Dataset\n",
    "\n",
    "class IMDbDataset(Dataset):\n",
    "    \"\"\"\n",
    "    Class that represents a train/validation/test dataset that's readable for PyTorch\n",
    "    Note that this class inherits torch.utils.data.Dataset\n",
    "    \"\"\"\n",
    "    \n",
    "    def __init__(self, data_list, target_list):\n",
    "        \"\"\"\n",
    "        @param data_list: list of newsgroup tokens \n",
    "        @param target_list: list of newsgroup targets \n",
    "\n",
    "        \"\"\"\n",
    "        self.data_list = data_list\n",
    "        self.target_list = target_list\n",
    "        assert (len(self.data_list) == len(self.target_list))\n",
    "\n",
    "    def __len__(self):\n",
    "        return len(self.data_list)\n",
    "        \n",
    "    def __getitem__(self, key):\n",
    "        \"\"\"\n",
    "        Triggered when you call dataset[i]\n",
    "        \"\"\"\n",
    "        \n",
    "        token_idx = self.data_list[key][:MAX_SENTENCE_LENGTH]\n",
    "        label = self.target_list[key]\n",
    "        return [token_idx, len(token_idx), label]\n",
    "\n",
    "def imdb_collate_func(batch):\n",
    "    \"\"\"\n",
    "    Customized function for DataLoader that dynamically pads the batch so that all \n",
    "    data have the same length\n",
    "    \"\"\"\n",
    "    data_list = []\n",
    "    label_list = []\n",
    "    length_list = []\n",
    "    #print(\"collate batch: \", batch[0][0])\n",
    "    #batch[0][0] = batch[0][0][:MAX_SENTENCE_LENGTH]\n",
    "    for datum in batch:\n",
    "        label_list.append(datum[2])\n",
    "        length_list.append(datum[1])\n",
    "    # padding\n",
    "    for datum in batch:\n",
    "        padded_vec = np.pad(np.array(datum[0]), \n",
    "                                pad_width=((0,MAX_SENTENCE_LENGTH-datum[1])), \n",
    "                                mode=\"constant\", constant_values=0)\n",
    "        data_list.append(padded_vec)\n",
    "    return [torch.from_numpy(np.array(data_list)), torch.LongTensor(length_list), torch.LongTensor(label_list)]"
   ]
  },
  {
   "cell_type": "code",
   "execution_count": 4,
   "metadata": {},
   "outputs": [],
   "source": [
    "train_features = ngram_dct['train_1']\n",
    "val_features = ngram_dct['val_1']\n",
    "test_features = ngram_dct['test_1']"
   ]
  },
  {
   "cell_type": "code",
   "execution_count": 5,
   "metadata": {},
   "outputs": [],
   "source": [
    "max_vocab_size = 20000\n",
    "PAD_IDX = 0\n",
    "UNK_IDX = 1\n",
    "all_train_features = list(itertools.chain.from_iterable(train_features))\n",
    "\n",
    "builder = word2index(PAD_IDX, UNK_IDX)\n",
    "#build vocab\n",
    "token2id, id2token = builder.build_vocab(all_train_features, max_vocab_size)\n",
    "train_data_indices = builder.token2index_dataset(train_features)\n",
    "val_data_indices = builder.token2index_dataset(val_features)\n",
    "test_data_indices = builder.token2index_dataset(test_features)\n",
    "MAX_SENTENCE_LENGTH = 200\n",
    "\n",
    "# create pytorch dataloader\n",
    "BATCH_SIZE = 64\n",
    "train_dataset = IMDbDataset(train_data_indices, train_label)\n",
    "train_loader = torch.utils.data.DataLoader(dataset=train_dataset, \n",
    "                                           batch_size=BATCH_SIZE,\n",
    "                                           collate_fn=imdb_collate_func,\n",
    "                                           shuffle=True)\n",
    "\n",
    "val_dataset = IMDbDataset(val_data_indices, val_label)\n",
    "val_loader = torch.utils.data.DataLoader(dataset=val_dataset, \n",
    "                                           batch_size=BATCH_SIZE,\n",
    "                                           collate_fn=imdb_collate_func,\n",
    "                                           shuffle=True)"
   ]
  },
  {
   "cell_type": "markdown",
   "metadata": {},
   "source": [
    "## sgd"
   ]
  },
  {
   "cell_type": "code",
   "execution_count": 8,
   "metadata": {},
   "outputs": [
    {
     "name": "stderr",
     "output_type": "stream",
     "text": [
      "100%|██████████| 10/10 [57:17<00:00, 343.73s/it]\n",
      "  0%|          | 0/10 [00:00<?, ?it/s]"
     ]
    },
    {
     "name": "stdout",
     "output_type": "stream",
     "text": [
      "finish learning rate 0.01, val_acc: 71.88\n"
     ]
    },
    {
     "name": "stderr",
     "output_type": "stream",
     "text": [
      "100%|██████████| 10/10 [47:29<00:00, 284.97s/it]\n",
      "  0%|          | 0/10 [00:00<?, ?it/s]"
     ]
    },
    {
     "name": "stdout",
     "output_type": "stream",
     "text": [
      "finish learning rate 0.05, val_acc: 78.34\n"
     ]
    },
    {
     "name": "stderr",
     "output_type": "stream",
     "text": [
      "100%|██████████| 10/10 [1:19:24<00:00, 476.46s/it]\n",
      "  0%|          | 0/10 [00:00<?, ?it/s]"
     ]
    },
    {
     "name": "stdout",
     "output_type": "stream",
     "text": [
      "finish learning rate 0.1, val_acc: 80.22\n"
     ]
    },
    {
     "name": "stderr",
     "output_type": "stream",
     "text": [
      "100%|██████████| 10/10 [42:51<00:00, 257.14s/it]\n"
     ]
    },
    {
     "name": "stdout",
     "output_type": "stream",
     "text": [
      "finish learning rate 0.5, val_acc: 84.22\n"
     ]
    }
   ],
   "source": [
    "#sgd -- no decay\n",
    "lr_list = [0.01, 0.05, 0.1, 0.5]\n",
    "val_curve_sgd_lr = []\n",
    "val_acc_sgd_lr = []\n",
    "for learning_rate in lr_list:\n",
    "    learning_rate_decay = False\n",
    "    num_epochs = 10\n",
    "    emb_dim = 300\n",
    "    model = BagOfWords(len(id2token), emb_dim)\n",
    "\n",
    "    # Criterion and Optimizer\n",
    "    criterion = torch.nn.CrossEntropyLoss()  \n",
    "    optimizer = torch.optim.SGD(model.parameters(), lr = learning_rate, momentum=0.9)\n",
    "    val_acc_list = []\n",
    "    for epoch in tqdm.trange(num_epochs):\n",
    "        for i, (data, lengths, labels) in enumerate(train_loader):\n",
    "            model.train()\n",
    "            data_batch, length_batch, label_batch = data, lengths, labels\n",
    "            optimizer.zero_grad()\n",
    "            outputs = model(data_batch, length_batch)\n",
    "            loss = criterion(outputs, label_batch)\n",
    "            loss.backward()\n",
    "            val_acc = test_model(val_loader, model)\n",
    "            optimizer.step()\n",
    "        \n",
    "        val_acc_list.append(val_acc)\n",
    "        if learning_rate_decay == True:\n",
    "            scheduler.step(val_acc)\n",
    "\n",
    "\n",
    "    val_curve_sgd_lr.append(val_acc_list)\n",
    "    val_acc_sgd_lr.append(test_model(val_loader, model))\n",
    "    print('finish learning rate %s, val_acc: %s' %(learning_rate, test_model(val_loader, model)))"
   ]
  },
  {
   "cell_type": "code",
   "execution_count": 37,
   "metadata": {},
   "outputs": [
    {
     "name": "stderr",
     "output_type": "stream",
     "text": [
      "\n",
      "\n",
      "\n",
      "  0%|          | 0/10 [00:00<?, ?it/s]\u001b[A\u001b[A\u001b[A\n",
      "\n",
      "\n",
      " 10%|█         | 1/10 [03:55<35:15, 235.01s/it]\u001b[A\u001b[A\u001b[A\n",
      "\n",
      "\n",
      " 20%|██        | 2/10 [07:49<31:17, 234.65s/it]\u001b[A\u001b[A\u001b[A\n",
      "\n",
      "\n",
      " 30%|███       | 3/10 [11:43<27:21, 234.44s/it]\u001b[A\u001b[A\u001b[A\n",
      "\n",
      "\n",
      " 40%|████      | 4/10 [15:38<23:27, 234.53s/it]\u001b[A\u001b[A\u001b[A\n",
      "\n",
      "\n",
      " 50%|█████     | 5/10 [19:32<19:32, 234.55s/it]\u001b[A\u001b[A\u001b[A\n",
      "\n",
      "\n",
      " 60%|██████    | 6/10 [23:31<15:40, 235.18s/it]\u001b[A\u001b[A\u001b[A\n",
      "\n",
      "\n",
      " 70%|███████   | 7/10 [27:26<11:45, 235.20s/it]\u001b[A\u001b[A\u001b[A\n",
      "\n",
      "\n",
      " 80%|████████  | 8/10 [31:42<07:55, 237.84s/it]\u001b[A\u001b[A\u001b[A\n",
      "\n",
      "\n",
      " 90%|█████████ | 9/10 [35:59<03:59, 239.93s/it]\u001b[A\u001b[A\u001b[A\n",
      "\n",
      "\n",
      "100%|██████████| 10/10 [40:15<00:00, 241.55s/it]\u001b[A\u001b[A\u001b[A\n",
      "\n",
      "\n",
      "\u001b[A\u001b[A\u001b[A"
     ]
    },
    {
     "name": "stdout",
     "output_type": "stream",
     "text": [
      "finish learning rate decay from 1, val_acc: 85.38\n"
     ]
    }
   ],
   "source": [
    "#learning rate decay\n",
    "learning_rate = 1\n",
    "learning_rate_decay = True\n",
    "num_epochs = 10\n",
    "emb_dim = 300\n",
    "model = BagOfWords(len(id2token), emb_dim)\n",
    "\n",
    "# Criterion and Optimizer\n",
    "criterion = torch.nn.CrossEntropyLoss()  \n",
    "optimizer = torch.optim.SGD(model.parameters(), lr = learning_rate, momentum=0.9)\n",
    "scheduler = torch.optim.lr_scheduler.ReduceLROnPlateau(optimizer, 'max', patience = 1)\n",
    "val_acc_list = []\n",
    "for epoch in tqdm.trange(num_epochs):\n",
    "    for i, (data, lengths, labels) in enumerate(train_loader):\n",
    "        model.train()\n",
    "        data_batch, length_batch, label_batch = data, lengths, labels\n",
    "        optimizer.zero_grad()\n",
    "        outputs = model(data_batch, length_batch)\n",
    "        loss = criterion(outputs, label_batch)\n",
    "        loss.backward()\n",
    "        val_acc = test_model(val_loader, model)\n",
    "        optimizer.step()\n",
    "    \n",
    "    val_acc_list.append(val_acc)\n",
    "    if learning_rate_decay == True:\n",
    "        scheduler.step(val_acc)\n",
    "\n",
    "val_curve_sgd_lr.append(val_acc_list)\n",
    "val_acc_sgd_lr.append(test_model(val_loader, model))\n",
    "print('finish learning rate decay from %s, val_acc: %s' %(learning_rate, test_model(val_loader, model)))"
   ]
  },
  {
   "cell_type": "code",
   "execution_count": 39,
   "metadata": {},
   "outputs": [
    {
     "data": {
      "text/plain": [
       "[[67.62, 68.9, 69.26, 70.44, 71.18, 71.32, 71.68, 72.12, 72.24, 71.88],\n",
       " [70.98, 73.92, 73.82, 75.7, 75.38, 76.88, 77.02, 77.32, 77.24, 78.14],\n",
       " [72.3, 75.32, 75.9, 77.04, 77.48, 78.2, 78.9, 78.42, 79.66, 80.3],\n",
       " [75.56, 78.28, 81.4, 80.02, 82.82, 82.86, 80.84, 82.9, 84.74, 84.3],\n",
       " [74.96, 76.36, 82.16, 83.66, 82.52, 82.28, 85.38, 85.56, 85.28, 85.44]]"
      ]
     },
     "execution_count": 39,
     "metadata": {},
     "output_type": "execute_result"
    }
   ],
   "source": [
    "val_curve_sgd_lr"
   ]
  },
  {
   "cell_type": "code",
   "execution_count": 42,
   "metadata": {},
   "outputs": [
    {
     "data": {
      "text/plain": [
       "Text(0.5,1,'spacy tokenization, unigram, sgd optimization')"
      ]
     },
     "execution_count": 42,
     "metadata": {},
     "output_type": "execute_result"
    },
    {
     "data": {
      "image/png": "[encoded data removed]",
      "text/plain": [
       "<Figure size 432x288 with 1 Axes>"
      ]
     },
     "metadata": {
      "needs_background": "light"
     },
     "output_type": "display_data"
    }
   ],
   "source": [
    "for i in range(len(val_curve_sgd_lr)-1):\n",
    "    plt.plot(np.arange(1,num_epochs+1), val_curve_sgd_lr[i], label = 'lr = %s' %lr_list[i])\n",
    "plt.plot(np.arange(1,num_epochs+1), val_curve_sgd_lr[-1], label = 'lr decay from 1')\n",
    "plt.legend()\n",
    "plt.ylabel('validation accuracy')\n",
    "plt.xlabel('epochs')\n",
    "plt.title('spacy tokenization, unigram, sgd optimization')"
   ]
  },
  {
   "cell_type": "code",
   "execution_count": 43,
   "metadata": {},
   "outputs": [
    {
     "data": {
      "text/html": [
       "<div>\n",
       "<style scoped>\n",
       "    .dataframe tbody tr th:only-of-type {\n",
       "        vertical-align: middle;\n",
       "    }\n",
       "\n",
       "    .dataframe tbody tr th {\n",
       "        vertical-align: top;\n",
       "    }\n",
       "\n",
       "    .dataframe thead th {\n",
       "        text-align: right;\n",
       "    }\n",
       "</style>\n",
       "<table border=\"1\" class=\"dataframe\">\n",
       "  <thead>\n",
       "    <tr style=\"text-align: right;\">\n",
       "      <th>learning rate</th>\n",
       "      <th>0.01</th>\n",
       "      <th>0.05</th>\n",
       "      <th>0.1</th>\n",
       "      <th>0.5</th>\n",
       "      <th>lr decay</th>\n",
       "    </tr>\n",
       "    <tr>\n",
       "      <th>optimizer</th>\n",
       "      <th></th>\n",
       "      <th></th>\n",
       "      <th></th>\n",
       "      <th></th>\n",
       "      <th></th>\n",
       "    </tr>\n",
       "  </thead>\n",
       "  <tbody>\n",
       "    <tr>\n",
       "      <th>sgd</th>\n",
       "      <td>71.88</td>\n",
       "      <td>78.34</td>\n",
       "      <td>80.22</td>\n",
       "      <td>84.22</td>\n",
       "      <td>85.38</td>\n",
       "    </tr>\n",
       "  </tbody>\n",
       "</table>\n",
       "</div>"
      ],
      "text/plain": [
       "learning rate   0.01   0.05    0.1    0.5  lr decay\n",
       "optimizer                                          \n",
       "sgd            71.88  78.34  80.22  84.22     85.38"
      ]
     },
     "execution_count": 43,
     "metadata": {},
     "output_type": "execute_result"
    }
   ],
   "source": [
    "C = pd.Index([\"0.01\", \"0.05\", \"0.1\", \"0.5\", \"lr decay\"], name=\"learning rate\")\n",
    "I = pd.Index([\"sgd\"], name=\"optimizer\")\n",
    "df = pd.DataFrame(data=np.random.rand(1,5), index=I, columns=C)\n",
    "\n",
    "df.iloc[0] = val_acc_sgd_lr\n",
    "\n",
    "df"
   ]
  },
  {
   "cell_type": "markdown",
   "metadata": {},
   "source": [
    "## Adam"
   ]
  },
  {
   "cell_type": "code",
   "execution_count": 27,
   "metadata": {
    "scrolled": true
   },
   "outputs": [
    {
     "name": "stderr",
     "output_type": "stream",
     "text": [
      "\n",
      "\n",
      "  0%|          | 0/10 [00:00<?, ?it/s]\u001b[A\u001b[A\n",
      "\n",
      " 10%|█         | 1/10 [05:04<45:39, 304.41s/it]\u001b[A\u001b[A\n",
      "\n",
      " 20%|██        | 2/10 [10:08<40:32, 304.08s/it]\u001b[A\u001b[A\n",
      "\n",
      " 30%|███       | 3/10 [15:12<35:29, 304.24s/it]\u001b[A\u001b[A\n",
      "\n",
      " 40%|████      | 4/10 [20:18<30:27, 304.51s/it]\u001b[A\u001b[A\n",
      "\n",
      " 50%|█████     | 5/10 [25:23<25:23, 304.73s/it]\u001b[A\u001b[A\n",
      "\n",
      " 60%|██████    | 6/10 [30:28<20:19, 304.79s/it]\u001b[A\u001b[A\n",
      "\n",
      " 70%|███████   | 7/10 [35:33<15:14, 304.81s/it]\u001b[A\u001b[A\n",
      "\n",
      " 80%|████████  | 8/10 [40:37<10:09, 304.74s/it]\u001b[A\u001b[A\n",
      "\n",
      " 90%|█████████ | 9/10 [45:41<05:04, 304.63s/it]\u001b[A\u001b[A\n",
      "\n",
      "100%|██████████| 10/10 [50:46<00:00, 304.61s/it]\u001b[A\u001b[A\n",
      "\n",
      "\u001b[A\u001b[A\n",
      "\n",
      "  0%|          | 0/10 [00:00<?, ?it/s]\u001b[A\u001b[A"
     ]
    },
    {
     "name": "stdout",
     "output_type": "stream",
     "text": [
      "finish learning rate 0.001, val_acc: 87.44\n"
     ]
    },
    {
     "name": "stderr",
     "output_type": "stream",
     "text": [
      "\n",
      "\n",
      " 10%|█         | 1/10 [04:53<44:02, 293.58s/it]\u001b[A\u001b[A\n",
      "\n",
      " 20%|██        | 2/10 [09:17<37:09, 278.69s/it]\u001b[A\u001b[A\n",
      "\n",
      " 30%|███       | 3/10 [13:40<31:54, 273.48s/it]\u001b[A\u001b[A\n",
      "\n",
      " 40%|████      | 4/10 [18:03<27:05, 270.96s/it]\u001b[A\u001b[A\n",
      "\n",
      " 50%|█████     | 5/10 [22:27<22:27, 269.42s/it]\u001b[A\u001b[A\n",
      "\n",
      " 60%|██████    | 6/10 [26:51<17:54, 268.56s/it]\u001b[A\u001b[A\n",
      "\n",
      " 70%|███████   | 7/10 [31:15<13:23, 267.96s/it]\u001b[A\u001b[A\n",
      "\n",
      " 80%|████████  | 8/10 [35:39<08:54, 267.44s/it]\u001b[A\u001b[A\n",
      "\n",
      " 90%|█████████ | 9/10 [40:03<04:27, 267.00s/it]\u001b[A\u001b[A\n",
      "\n",
      "100%|██████████| 10/10 [44:26<00:00, 266.67s/it]\u001b[A\u001b[A\n",
      "\n",
      "\u001b[A\u001b[A\n",
      "\n",
      "  0%|          | 0/10 [00:00<?, ?it/s]\u001b[A\u001b[A"
     ]
    },
    {
     "name": "stdout",
     "output_type": "stream",
     "text": [
      "finish learning rate 0.005, val_acc: 84.64\n"
     ]
    },
    {
     "name": "stderr",
     "output_type": "stream",
     "text": [
      "\n",
      "\n",
      " 10%|█         | 1/10 [04:19<38:56, 259.59s/it]\u001b[A\u001b[A\n",
      "\n",
      " 20%|██        | 2/10 [08:07<32:31, 243.88s/it]\u001b[A\u001b[A\n",
      "\n",
      " 30%|███       | 3/10 [11:56<27:52, 238.94s/it]\u001b[A\u001b[A\n",
      "\n",
      " 40%|████      | 4/10 [15:44<23:37, 236.25s/it]\u001b[A\u001b[A\n",
      "\n",
      " 50%|█████     | 5/10 [19:33<19:33, 234.80s/it]\u001b[A\u001b[A\n",
      "\n",
      " 60%|██████    | 6/10 [23:21<15:34, 233.60s/it]\u001b[A\u001b[A\n",
      "\n",
      " 70%|███████   | 7/10 [27:09<11:38, 232.72s/it]\u001b[A\u001b[A\n",
      "\n",
      " 80%|████████  | 8/10 [30:56<07:44, 232.11s/it]\u001b[A\u001b[A\n",
      "\n",
      " 90%|█████████ | 9/10 [34:44<03:51, 231.58s/it]\u001b[A\u001b[A\n",
      "\n",
      "100%|██████████| 10/10 [38:32<00:00, 231.21s/it]\u001b[A\u001b[A\n",
      "\n",
      "\u001b[A\u001b[A"
     ]
    },
    {
     "name": "stdout",
     "output_type": "stream",
     "text": [
      "finish learning rate 0.01, val_acc: 84.58\n"
     ]
    }
   ],
   "source": [
    "## adam - no decay\n",
    "lr_list = [0.001, 0.005, 0.01]\n",
    "val_curve_adam_lr = []\n",
    "val_acc_adam_lr = []\n",
    "for learning_rate in lr_list:\n",
    "    learning_rate_decay = False\n",
    "    num_epochs = 10\n",
    "    emb_dim = 300\n",
    "    model = BagOfWords(len(id2token), emb_dim)\n",
    "\n",
    "    # Criterion and Optimizer\n",
    "    criterion = torch.nn.CrossEntropyLoss()  \n",
    "    optimizer = torch.optim.Adam(model.parameters(), lr = learning_rate)\n",
    "    val_acc_list = []\n",
    "    for epoch in tqdm.trange(num_epochs):\n",
    "        for i, (data, lengths, labels) in enumerate(train_loader):\n",
    "            model.train()\n",
    "            data_batch, length_batch, label_batch = data, lengths, labels\n",
    "            optimizer.zero_grad()\n",
    "            outputs = model(data_batch, length_batch)\n",
    "            loss = criterion(outputs, label_batch)\n",
    "            loss.backward()\n",
    "            val_acc = test_model(val_loader, model)\n",
    "            optimizer.step()\n",
    "\n",
    "        val_acc_list.append(val_acc)\n",
    "        if learning_rate_decay == True:\n",
    "            scheduler.step(val_acc)\n",
    "            \n",
    "\n",
    "    val_curve_adam_lr.append(val_acc_list)\n",
    "    val_acc_adam_lr.append(test_model(val_loader, model))\n",
    "    print('finish learning rate %s, val_acc: %s' %(learning_rate, test_model(val_loader, model)))"
   ]
  },
  {
   "cell_type": "code",
   "execution_count": 29,
   "metadata": {},
   "outputs": [
    {
     "data": {
      "text/plain": [
       "Text(0.5,1,'spacy tokenization, unigram, adam optimization')"
      ]
     },
     "execution_count": 29,
     "metadata": {},
     "output_type": "execute_result"
    },
    {
     "data": {
      "image/png": "[encoded data removed]",
      "text/plain": [
       "<Figure size 432x288 with 1 Axes>"
      ]
     },
     "metadata": {
      "needs_background": "light"
     },
     "output_type": "display_data"
    }
   ],
   "source": [
    "for i in range(len(val_curve_adam_lr)):\n",
    "    plt.plot(np.arange(1,num_epochs+1), val_curve_adam_lr[i], label = 'lr = %s' %lr_list[i])\n",
    "plt.legend()\n",
    "plt.ylabel('validation accuracy')\n",
    "plt.xlabel('epochs')\n",
    "plt.title('spacy tokenization, unigram, adam optimization')"
   ]
  },
  {
   "cell_type": "code",
   "execution_count": 44,
   "metadata": {},
   "outputs": [
    {
     "data": {
      "text/html": [
       "<div>\n",
       "<style scoped>\n",
       "    .dataframe tbody tr th:only-of-type {\n",
       "        vertical-align: middle;\n",
       "    }\n",
       "\n",
       "    .dataframe tbody tr th {\n",
       "        vertical-align: top;\n",
       "    }\n",
       "\n",
       "    .dataframe thead th {\n",
       "        text-align: right;\n",
       "    }\n",
       "</style>\n",
       "<table border=\"1\" class=\"dataframe\">\n",
       "  <thead>\n",
       "    <tr style=\"text-align: right;\">\n",
       "      <th>learning rate</th>\n",
       "      <th>0.001</th>\n",
       "      <th>0.005</th>\n",
       "      <th>0.01</th>\n",
       "    </tr>\n",
       "    <tr>\n",
       "      <th>optimizer</th>\n",
       "      <th></th>\n",
       "      <th></th>\n",
       "      <th></th>\n",
       "    </tr>\n",
       "  </thead>\n",
       "  <tbody>\n",
       "    <tr>\n",
       "      <th>Adam</th>\n",
       "      <td>87.44</td>\n",
       "      <td>84.64</td>\n",
       "      <td>84.58</td>\n",
       "    </tr>\n",
       "  </tbody>\n",
       "</table>\n",
       "</div>"
      ],
      "text/plain": [
       "learning rate  0.001  0.005   0.01\n",
       "optimizer                         \n",
       "Adam           87.44  84.64  84.58"
      ]
     },
     "execution_count": 44,
     "metadata": {},
     "output_type": "execute_result"
    }
   ],
   "source": [
    "C = pd.Index([\"0.001\", \"0.005\", \"0.01\"], name=\"learning rate\")\n",
    "I = pd.Index([\"Adam\"], name=\"optimizer\")\n",
    "df = pd.DataFrame(data=np.random.rand(1,3), index=I, columns=C)\n",
    "\n",
    "df.iloc[0] = val_acc_adam_lr\n",
    "\n",
    "df"
   ]
  },
  {
   "cell_type": "code",
   "execution_count": null,
   "metadata": {},
   "outputs": [],
   "source": []
  }
 ],
 "metadata": {
  "kernelspec": {
   "display_name": "Python 3",
   "language": "python",
   "name": "python3"
  },
  "language_info": {
   "codemirror_mode": {
    "name": "ipython",
    "version": 3
   },
   "file_extension": ".py",
   "mimetype": "text/x-python",
   "name": "python",
   "nbconvert_exporter": "python",
   "pygments_lexer": "ipython3",
   "version": "3.6.6"
  }
 },
 "nbformat": 4,
 "nbformat_minor": 2
}
