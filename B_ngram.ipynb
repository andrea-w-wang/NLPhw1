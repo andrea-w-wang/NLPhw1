{
 "cells": [
  {
   "cell_type": "code",
   "execution_count": 1,
   "metadata": {},
   "outputs": [],
   "source": [
    "import pickle as pk\n",
    "from imdb_indexer import word2index\n",
    "import numpy as np\n",
    "import pandas as pd\n",
    "import itertools\n",
    "import os\n",
    "from functions import make_ngram, uptoNgram\n",
    "import tqdm\n",
    "import matplotlib.pyplot as plt\n",
    "from bow import BagOfWords, test_model\n"
   ]
  },
  {
   "cell_type": "code",
   "execution_count": 2,
   "metadata": {},
   "outputs": [],
   "source": [
    "import numpy as np\n",
    "import torch\n",
    "from torch.utils.data import Dataset\n",
    "\n",
    "class IMDbDataset(Dataset):\n",
    "    \"\"\"\n",
    "    Class that represents a train/validation/test dataset that's readable for PyTorch\n",
    "    Note that this class inherits torch.utils.data.Dataset\n",
    "    \"\"\"\n",
    "    \n",
    "    def __init__(self, data_list, target_list):\n",
    "        \"\"\"\n",
    "        @param data_list: list of newsgroup tokens \n",
    "        @param target_list: list of newsgroup targets \n",
    "\n",
    "        \"\"\"\n",
    "        self.data_list = data_list\n",
    "        self.target_list = target_list\n",
    "        assert (len(self.data_list) == len(self.target_list))\n",
    "\n",
    "    def __len__(self):\n",
    "        return len(self.data_list)\n",
    "        \n",
    "    def __getitem__(self, key):\n",
    "        \"\"\"\n",
    "        Triggered when you call dataset[i]\n",
    "        \"\"\"\n",
    "        \n",
    "        token_idx = self.data_list[key][:MAX_SENTENCE_LENGTH]\n",
    "        label = self.target_list[key]\n",
    "        return [token_idx, len(token_idx), label]\n",
    "\n",
    "def imdb_collate_func(batch):\n",
    "    \"\"\"\n",
    "    Customized function for DataLoader that dynamically pads the batch so that all \n",
    "    data have the same length\n",
    "    \"\"\"\n",
    "    data_list = []\n",
    "    label_list = []\n",
    "    length_list = []\n",
    "    #print(\"collate batch: \", batch[0][0])\n",
    "    #batch[0][0] = batch[0][0][:MAX_SENTENCE_LENGTH]\n",
    "    for datum in batch:\n",
    "        label_list.append(datum[2])\n",
    "        length_list.append(datum[1])\n",
    "    # padding\n",
    "    for datum in batch:\n",
    "        padded_vec = np.pad(np.array(datum[0]), \n",
    "                                pad_width=((0,MAX_SENTENCE_LENGTH-datum[1])), \n",
    "                                mode=\"constant\", constant_values=0)\n",
    "        data_list.append(padded_vec)\n",
    "    return [torch.from_numpy(np.array(data_list)), torch.LongTensor(length_list), torch.LongTensor(label_list)]"
   ]
  },
  {
   "cell_type": "code",
   "execution_count": 3,
   "metadata": {},
   "outputs": [],
   "source": [
    "ngram_dct = pk.load(open(\"ngram_dct.pk\", \"rb\"))\n",
    "train_label = pk.load(open(\"train_label.pk\", \"rb\"))\n",
    "test_label = pk.load(open(\"test_label.pk\", \"rb\"))\n",
    "val_label = pk.load(open(\"val_label.pk\", \"rb\"))\n"
   ]
  },
  {
   "cell_type": "code",
   "execution_count": 4,
   "metadata": {},
   "outputs": [
    {
     "name": "stderr",
     "output_type": "stream",
     "text": [
      "100%|██████████| 10/10 [41:43<00:00, 250.35s/it]\n"
     ]
    },
    {
     "name": "stdout",
     "output_type": "stream",
     "text": [
      "finish vocab size 50000, val_acc: 84.96\n"
     ]
    },
    {
     "name": "stderr",
     "output_type": "stream",
     "text": [
      "100%|██████████| 10/10 [43:44<00:00, 262.49s/it]\n"
     ]
    },
    {
     "name": "stdout",
     "output_type": "stream",
     "text": [
      "finish vocab size 50000, val_acc: 85.42\n"
     ]
    },
    {
     "name": "stderr",
     "output_type": "stream",
     "text": [
      "100%|██████████| 10/10 [37:27<00:00, 224.73s/it]\n"
     ]
    },
    {
     "name": "stdout",
     "output_type": "stream",
     "text": [
      "finish vocab size 50000, val_acc: 80.48\n"
     ]
    },
    {
     "name": "stderr",
     "output_type": "stream",
     "text": [
      "100%|██████████| 10/10 [30:08<00:00, 180.85s/it]\n"
     ]
    },
    {
     "name": "stdout",
     "output_type": "stream",
     "text": [
      "finish vocab size 50000, val_acc: 74.26\n"
     ]
    }
   ],
   "source": [
    "#adam\n",
    "val_acc_adam_ngram = []\n",
    "val_curve_adam_ngram = []\n",
    "ngram_list = [1,2,3,4]\n",
    "for i in range(len(ngram_list)):\n",
    "    ngram = ngram_list[i]\n",
    "    train_features = ngram_dct['train_%s' %ngram]\n",
    "    val_features = ngram_dct['val_%s' %ngram]\n",
    "    test_features = ngram_dct['test_%s' %ngram]\n",
    "    max_vocab_size = 50000\n",
    "    PAD_IDX = 0\n",
    "    UNK_IDX = 1\n",
    "    all_train_features = list(itertools.chain.from_iterable(train_features))\n",
    "\n",
    "    builder = word2index(PAD_IDX, UNK_IDX)\n",
    "    #build vocab\n",
    "    token2id, id2token = builder.build_vocab(all_train_features, max_vocab_size)\n",
    "    train_data_indices = builder.token2index_dataset(train_features)\n",
    "    val_data_indices = builder.token2index_dataset(val_features)\n",
    "    test_data_indices = builder.token2index_dataset(test_features)\n",
    "    MAX_SENTENCE_LENGTH = 200\n",
    "\n",
    "    # create pytorch dataloader\n",
    "    BATCH_SIZE = 64\n",
    "    train_dataset = IMDbDataset(train_data_indices, train_label)\n",
    "    train_loader = torch.utils.data.DataLoader(dataset=train_dataset, \n",
    "                                               batch_size=BATCH_SIZE,\n",
    "                                               collate_fn=imdb_collate_func,\n",
    "                                               shuffle=True)\n",
    "\n",
    "    val_dataset = IMDbDataset(val_data_indices, val_label)\n",
    "    val_loader = torch.utils.data.DataLoader(dataset=val_dataset, \n",
    "                                               batch_size=BATCH_SIZE,\n",
    "                                               collate_fn=imdb_collate_func,\n",
    "                                               shuffle=True)\n",
    "\n",
    "    learning_rate = 0.01\n",
    "    learning_rate_decay = False\n",
    "    num_epochs = 10\n",
    "    emb_dim = 300\n",
    "    model = BagOfWords(len(id2token), emb_dim)\n",
    "\n",
    "    # Criterion and Optimizer\n",
    "    criterion = torch.nn.CrossEntropyLoss()  \n",
    "    optimizer = torch.optim.Adam(model.parameters(), lr = learning_rate)\n",
    "    val_acc_list = []\n",
    "    for epoch in tqdm.trange(num_epochs):\n",
    "        for i, (data, lengths, labels) in enumerate(train_loader):\n",
    "            model.train()\n",
    "            data_batch, length_batch, label_batch = data, lengths, labels\n",
    "            optimizer.zero_grad()\n",
    "            outputs = model(data_batch, length_batch)\n",
    "            loss = criterion(outputs, label_batch)\n",
    "            loss.backward()\n",
    "            val_acc = test_model(val_loader, model)\n",
    "            optimizer.step()\n",
    "\n",
    "        val_acc_list.append(val_acc)\n",
    "        if learning_rate_decay == True:\n",
    "            scheduler.step(val_acc)\n",
    "\n",
    "    val_curve_adam_ngram.append(val_acc_list)\n",
    "    val_acc_adam_ngram.append(test_model(val_loader, model))\n",
    "    print('finish vocab size %s, val_acc: %s' %(max_vocab_size, test_model(val_loader, model)))"
   ]
  },
  {
   "cell_type": "code",
   "execution_count": 7,
   "metadata": {
    "scrolled": true
   },
   "outputs": [
    {
     "data": {
      "text/plain": [
       "Text(0.5,1,'spacy tokenization, adam optimization (lr=0.01), embedding_dim = 300, max_vocab = 50k')"
      ]
     },
     "execution_count": 7,
     "metadata": {},
     "output_type": "execute_result"
    },
    {
     "data": {
      "image/png": "[encoded data removed]",
      "text/plain": [
       "<Figure size 432x288 with 1 Axes>"
      ]
     },
     "metadata": {
      "needs_background": "light"
     },
     "output_type": "display_data"
    }
   ],
   "source": [
    "for i in range(len(val_curve_adam_ngram)):\n",
    "    plt.plot(np.arange(1,num_epochs+1), val_curve_adam_ngram[i], label = 'ngram = %s' %(i+1))\n",
    "plt.legend()\n",
    "plt.ylabel('validation accuracy')\n",
    "plt.xlabel('epochs')\n",
    "plt.title('spacy tokenization, adam optimization (lr=0.01), embedding_dim = 300, max_vocab = 50k')"
   ]
  },
  {
   "cell_type": "code",
   "execution_count": 11,
   "metadata": {},
   "outputs": [
    {
     "data": {
      "text/plain": [
       "[84.96, 85.42, 80.48, 74.26]"
      ]
     },
     "execution_count": 11,
     "metadata": {},
     "output_type": "execute_result"
    }
   ],
   "source": [
    "val_acc_adam_ngram"
   ]
  },
  {
   "cell_type": "markdown",
   "metadata": {},
   "source": [
    "# 1+2-gram"
   ]
  },
  {
   "cell_type": "code",
   "execution_count": 14,
   "metadata": {},
   "outputs": [],
   "source": [
    "upto2gram = pk.load(open(\"upto2gram.pk\", \"rb\"))"
   ]
  },
  {
   "cell_type": "code",
   "execution_count": 15,
   "metadata": {},
   "outputs": [],
   "source": [
    "train_features = upto2gram['train']\n",
    "val_features = upto2gram['val']\n",
    "test_features = upto2gram['test']"
   ]
  },
  {
   "cell_type": "code",
   "execution_count": 27,
   "metadata": {},
   "outputs": [
    {
     "data": {
      "text/plain": [
       "669"
      ]
     },
     "execution_count": 27,
     "metadata": {},
     "output_type": "execute_result"
    }
   ],
   "source": [
    "#setting max sentence length a 80^th percentile of all feature length for 1+2-gram for each sentence\n",
    "feature_length = np.array([len(x) for x in train_features])\n",
    "MAX_SENTENCE_LENGTH = int(np.percentile(feature_length, 80))\n",
    "MAX_SENTENCE_LENGTH"
   ]
  },
  {
   "cell_type": "code",
   "execution_count": 28,
   "metadata": {},
   "outputs": [
    {
     "name": "stderr",
     "output_type": "stream",
     "text": [
      "100%|██████████| 10/10 [2:06:45<00:00, 760.57s/it] \n"
     ]
    },
    {
     "ename": "TypeError",
     "evalue": "not all arguments converted during string formatting",
     "output_type": "error",
     "traceback": [
      "\u001b[0;31m---------------------------------------------------------------------------\u001b[0m",
      "\u001b[0;31mTypeError\u001b[0m                                 Traceback (most recent call last)",
      "\u001b[0;32m<ipython-input-28-b0ba959600e4>\u001b[0m in \u001b[0;36m<module>\u001b[0;34m()\u001b[0m\n\u001b[1;32m     58\u001b[0m \u001b[0mval_curve_adam_ngram\u001b[0m\u001b[0;34m.\u001b[0m\u001b[0mappend\u001b[0m\u001b[0;34m(\u001b[0m\u001b[0mval_acc_list\u001b[0m\u001b[0;34m)\u001b[0m\u001b[0;34m\u001b[0m\u001b[0m\n\u001b[1;32m     59\u001b[0m \u001b[0mval_acc_adam_ngram\u001b[0m\u001b[0;34m.\u001b[0m\u001b[0mappend\u001b[0m\u001b[0;34m(\u001b[0m\u001b[0mtest_model\u001b[0m\u001b[0;34m(\u001b[0m\u001b[0mval_loader\u001b[0m\u001b[0;34m,\u001b[0m \u001b[0mmodel\u001b[0m\u001b[0;34m)\u001b[0m\u001b[0;34m)\u001b[0m\u001b[0;34m\u001b[0m\u001b[0m\n\u001b[0;32m---> 60\u001b[0;31m \u001b[0mprint\u001b[0m\u001b[0;34m(\u001b[0m\u001b[0;34m'finish, val_acc: %s'\u001b[0m \u001b[0;34m%\u001b[0m\u001b[0;34m(\u001b[0m\u001b[0mmax_vocab_size\u001b[0m\u001b[0;34m,\u001b[0m \u001b[0mtest_model\u001b[0m\u001b[0;34m(\u001b[0m\u001b[0mval_loader\u001b[0m\u001b[0;34m,\u001b[0m \u001b[0mmodel\u001b[0m\u001b[0;34m)\u001b[0m\u001b[0;34m)\u001b[0m\u001b[0;34m)\u001b[0m\u001b[0;34m\u001b[0m\u001b[0m\n\u001b[0m",
      "\u001b[0;31mTypeError\u001b[0m: not all arguments converted during string formatting"
     ]
    }
   ],
   "source": [
    "max_vocab_size = 50000\n",
    "PAD_IDX = 0\n",
    "UNK_IDX = 1\n",
    "all_train_features = list(itertools.chain.from_iterable(train_features))\n",
    "\n",
    "builder = word2index(PAD_IDX, UNK_IDX)\n",
    "#build vocab\n",
    "token2id, id2token = builder.build_vocab(all_train_features, max_vocab_size)\n",
    "train_data_indices = builder.token2index_dataset(train_features)\n",
    "val_data_indices = builder.token2index_dataset(val_features)\n",
    "test_data_indices = builder.token2index_dataset(test_features)\n",
    "\n",
    "# create pytorch dataloader\n",
    "BATCH_SIZE = 64\n",
    "train_dataset = IMDbDataset(train_data_indices, train_label)\n",
    "train_loader = torch.utils.data.DataLoader(dataset=train_dataset, \n",
    "                                           batch_size=BATCH_SIZE,\n",
    "                                           collate_fn=imdb_collate_func,\n",
    "                                           shuffle=True)\n",
    "\n",
    "val_dataset = IMDbDataset(val_data_indices, val_label)\n",
    "val_loader = torch.utils.data.DataLoader(dataset=val_dataset, \n",
    "                                           batch_size=BATCH_SIZE,\n",
    "                                           collate_fn=imdb_collate_func,\n",
    "                                           shuffle=True)\n",
    "\n",
    "learning_rate = 0.01\n",
    "learning_rate_decay = False\n",
    "num_epochs = 10\n",
    "emb_dim = 300\n",
    "model = BagOfWords(len(id2token), emb_dim)\n",
    "\n",
    "# Criterion and Optimizer\n",
    "criterion = torch.nn.CrossEntropyLoss()  \n",
    "optimizer = torch.optim.Adam(model.parameters(), lr = learning_rate)\n",
    "val_acc_list = []\n",
    "for epoch in tqdm.trange(num_epochs):\n",
    "    for i, (data, lengths, labels) in enumerate(train_loader):\n",
    "        model.train()\n",
    "        data_batch, length_batch, label_batch = data, lengths, labels\n",
    "        optimizer.zero_grad()\n",
    "        outputs = model(data_batch, length_batch)\n",
    "        loss = criterion(outputs, label_batch)\n",
    "        loss.backward()\n",
    "        val_acc = test_model(val_loader, model)\n",
    "        optimizer.step()\n",
    "\n",
    "    val_acc_list.append(val_acc)\n",
    "    if learning_rate_decay == True:\n",
    "        scheduler.step(val_acc)\n",
    "\n",
    "val_curve_adam_ngram.append(val_acc_list)\n",
    "val_acc_adam_ngram.append(test_model(val_loader, model))\n",
    "print('finish, val_acc: %s' %(max_vocab_size, test_model(val_loader, model)))"
   ]
  },
  {
   "cell_type": "code",
   "execution_count": 29,
   "metadata": {},
   "outputs": [
    {
     "data": {
      "text/plain": [
       "Text(0.5,1,'spacy tokenization, adam optimization (lr=0.01), embedding_dim = 300, max_vocab = 50k')"
      ]
     },
     "execution_count": 29,
     "metadata": {},
     "output_type": "execute_result"
    },
    {
     "data": {
      "image/png": "[encoded data removed]",
      "text/plain": [
       "<Figure size 432x288 with 1 Axes>"
      ]
     },
     "metadata": {
      "needs_background": "light"
     },
     "output_type": "display_data"
    }
   ],
   "source": [
    "for i in range(len(val_curve_adam_ngram)-1):\n",
    "    plt.plot(np.arange(1,num_epochs+1), val_curve_adam_ngram[i], label = 'ngram = %s' %(i+1))\n",
    "plt.plot(np.arange(1,num_epochs+1), val_curve_adam_ngram[-1], label = 'ngram = 1+2')    \n",
    "plt.legend()\n",
    "plt.ylabel('validation accuracy')\n",
    "plt.xlabel('epochs')\n",
    "plt.title('spacy tokenization, adam optimization (lr=0.01), embedding_dim = 300, max_vocab = 50k')"
   ]
  },
  {
   "cell_type": "code",
   "execution_count": 30,
   "metadata": {},
   "outputs": [
    {
     "data": {
      "text/html": [
       "<div>\n",
       "<style scoped>\n",
       "    .dataframe tbody tr th:only-of-type {\n",
       "        vertical-align: middle;\n",
       "    }\n",
       "\n",
       "    .dataframe tbody tr th {\n",
       "        vertical-align: top;\n",
       "    }\n",
       "\n",
       "    .dataframe thead th {\n",
       "        text-align: right;\n",
       "    }\n",
       "</style>\n",
       "<table border=\"1\" class=\"dataframe\">\n",
       "  <thead>\n",
       "    <tr style=\"text-align: right;\">\n",
       "      <th>ngram</th>\n",
       "      <th>1-gram</th>\n",
       "      <th>2-gram</th>\n",
       "      <th>3-gram</th>\n",
       "      <th>4-gram</th>\n",
       "      <th>1+2-gram</th>\n",
       "    </tr>\n",
       "    <tr>\n",
       "      <th>optimizer</th>\n",
       "      <th></th>\n",
       "      <th></th>\n",
       "      <th></th>\n",
       "      <th></th>\n",
       "      <th></th>\n",
       "    </tr>\n",
       "  </thead>\n",
       "  <tbody>\n",
       "    <tr>\n",
       "      <th>Adam</th>\n",
       "      <td>84.96</td>\n",
       "      <td>85.42</td>\n",
       "      <td>80.48</td>\n",
       "      <td>74.26</td>\n",
       "      <td>89.8</td>\n",
       "    </tr>\n",
       "  </tbody>\n",
       "</table>\n",
       "</div>"
      ],
      "text/plain": [
       "ngram      1-gram  2-gram  3-gram  4-gram  1+2-gram\n",
       "optimizer                                          \n",
       "Adam        84.96   85.42   80.48   74.26      89.8"
      ]
     },
     "execution_count": 30,
     "metadata": {},
     "output_type": "execute_result"
    }
   ],
   "source": [
    "C = pd.Index([\"1-gram\", \"2-gram\", \"3-gram\", \"4-gram\", \"1+2-gram\"], name=\"ngram\")\n",
    "I = pd.Index([\"Adam\"], name=\"optimizer\")\n",
    "df = pd.DataFrame(data=np.random.rand(1,5), index=I, columns=C)\n",
    "\n",
    "df.iloc[0] = val_acc_adam_ngram\n",
    "\n",
    "df"
   ]
  }
 ],
 "metadata": {
  "kernelspec": {
   "display_name": "Python 3",
   "language": "python",
   "name": "python3"
  },
  "language_info": {
   "codemirror_mode": {
    "name": "ipython",
    "version": 3
   },
   "file_extension": ".py",
   "mimetype": "text/x-python",
   "name": "python",
   "nbconvert_exporter": "python",
   "pygments_lexer": "ipython3",
   "version": "3.6.6"
  }
 },
 "nbformat": 4,
 "nbformat_minor": 2
}
