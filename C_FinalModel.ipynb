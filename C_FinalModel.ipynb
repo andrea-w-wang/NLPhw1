{
 "cells": [
  {
   "cell_type": "code",
   "execution_count": 2,
   "metadata": {},
   "outputs": [],
   "source": [
    "import pickle as pk\n",
    "from imdb_indexer import word2index\n",
    "import numpy as np\n",
    "import pandas as pd\n",
    "import itertools\n",
    "import os\n",
    "from functions import make_ngram, uptoNgram\n",
    "import tqdm\n",
    "import matplotlib.pyplot as plt\n",
    "from bow import BagOfWords, test_model\n"
   ]
  },
  {
   "cell_type": "code",
   "execution_count": 3,
   "metadata": {},
   "outputs": [],
   "source": [
    "import numpy as np\n",
    "import torch\n",
    "from torch.utils.data import Dataset\n",
    "\n",
    "class IMDbDataset(Dataset):\n",
    "    \"\"\"\n",
    "    Class that represents a train/validation/test dataset that's readable for PyTorch\n",
    "    Note that this class inherits torch.utils.data.Dataset\n",
    "    \"\"\"\n",
    "    \n",
    "    def __init__(self, data_list, target_list):\n",
    "        \"\"\"\n",
    "        @param data_list: list of newsgroup tokens \n",
    "        @param target_list: list of newsgroup targets \n",
    "\n",
    "        \"\"\"\n",
    "        self.data_list = data_list\n",
    "        self.target_list = target_list\n",
    "        assert (len(self.data_list) == len(self.target_list))\n",
    "\n",
    "    def __len__(self):\n",
    "        return len(self.data_list)\n",
    "        \n",
    "    def __getitem__(self, key):\n",
    "        \"\"\"\n",
    "        Triggered when you call dataset[i]\n",
    "        \"\"\"\n",
    "        \n",
    "        token_idx = self.data_list[key][:MAX_SENTENCE_LENGTH]\n",
    "        label = self.target_list[key]\n",
    "        return [token_idx, len(token_idx), label]\n",
    "\n",
    "def imdb_collate_func(batch):\n",
    "    \"\"\"\n",
    "    Customized function for DataLoader that dynamically pads the batch so that all \n",
    "    data have the same length\n",
    "    \"\"\"\n",
    "    data_list = []\n",
    "    label_list = []\n",
    "    length_list = []\n",
    "    #print(\"collate batch: \", batch[0][0])\n",
    "    #batch[0][0] = batch[0][0][:MAX_SENTENCE_LENGTH]\n",
    "    for datum in batch:\n",
    "        label_list.append(datum[2])\n",
    "        length_list.append(datum[1])\n",
    "    # padding\n",
    "    for datum in batch:\n",
    "        padded_vec = np.pad(np.array(datum[0]), \n",
    "                                pad_width=((0,MAX_SENTENCE_LENGTH-datum[1])), \n",
    "                                mode=\"constant\", constant_values=0)\n",
    "        data_list.append(padded_vec)\n",
    "    return [torch.from_numpy(np.array(data_list)), torch.LongTensor(length_list), torch.LongTensor(label_list)]"
   ]
  },
  {
   "cell_type": "markdown",
   "metadata": {},
   "source": [
    "## setting: \n",
    "### nltk tokenization, 1+2-gram, vocab_size =50000,  emb_size = 300, adam optimizer, learning rate = 0.001, max sentence length = 90 percentile of training feature length"
   ]
  },
  {
   "cell_type": "code",
   "execution_count": 4,
   "metadata": {},
   "outputs": [],
   "source": [
    "ngram_dct = pk.load(open(\"ngram_dct_nltk.pk\", \"rb\"))\n",
    "train_label = pk.load(open(\"train_label.pk\", \"rb\"))\n",
    "test_label = pk.load(open(\"test_label.pk\", \"rb\"))\n",
    "val_label = pk.load(open(\"val_label.pk\", \"rb\"))"
   ]
  },
  {
   "cell_type": "code",
   "execution_count": 9,
   "metadata": {},
   "outputs": [],
   "source": [
    "#create upto2gram_nltk first\n",
    "upto2gram = uptoNgram(2, ngram_dct)"
   ]
  },
  {
   "cell_type": "code",
   "execution_count": 10,
   "metadata": {
    "scrolled": true
   },
   "outputs": [
    {
     "data": {
      "text/plain": [
       "dict_keys(['train', 'val', 'test'])"
      ]
     },
     "execution_count": 10,
     "metadata": {},
     "output_type": "execute_result"
    }
   ],
   "source": [
    "upto2gram.keys()"
   ]
  },
  {
   "cell_type": "code",
   "execution_count": 11,
   "metadata": {},
   "outputs": [],
   "source": [
    "train_features = upto2gram['train']\n",
    "val_features = upto2gram['val']\n",
    "test_features = upto2gram['test']"
   ]
  },
  {
   "cell_type": "code",
   "execution_count": 17,
   "metadata": {
    "scrolled": true
   },
   "outputs": [
    {
     "name": "stdout",
     "output_type": "stream",
     "text": [
      "['hear', 'prais', 'thi', 'play', 'decid', 'watch', 'stumbl', 'across', 'cabl', 'see', 'thi', 'eliv', 'women', 'struggl', 'focus', 'topic', 'hand', 'guess', 'interest', 'stori', 'women', 'privat', 'part', 'affect', 'live', 'thi', 'otherwis', 'rather', 'dull', 'bore', 'anyth', 'found', 'bit', 'br', 'br', 'inquir', 'femal', 'friend', 'also', 'watch', 'thi', 'thought', 'wa', 'horribl', 'well', 'guy', 'get', 'hear prais', 'prais thi', 'thi play', 'play decid', 'decid watch', 'watch stumbl', 'stumbl across', 'across cabl', 'cabl see', 'see thi', 'thi eliv', 'eliv women', 'women struggl', 'struggl focus', 'focus topic', 'topic hand', 'hand guess', 'guess interest', 'interest stori', 'stori women', 'women privat', 'privat part', 'part affect', 'affect live', 'live thi', 'thi otherwis', 'otherwis rather', 'rather dull', 'dull bore', 'bore anyth', 'anyth found', 'found bit', 'bit br', 'br br', 'br inquir', 'inquir femal', 'femal friend', 'friend also', 'also watch', 'watch thi', 'thi thought', 'thought wa', 'wa horribl', 'horribl well', 'well guy', 'guy get']\n"
     ]
    }
   ],
   "source": [
    "print(train_features[1])"
   ]
  },
  {
   "cell_type": "code",
   "execution_count": 18,
   "metadata": {},
   "outputs": [
    {
     "data": {
      "text/plain": [
       "505"
      ]
     },
     "execution_count": 18,
     "metadata": {},
     "output_type": "execute_result"
    }
   ],
   "source": [
    "feature_length = np.array([len(x) for x in train_features])\n",
    "MAX_SENTENCE_LENGTH = int(np.percentile(feature_length, 90))\n",
    "MAX_SENTENCE_LENGTH"
   ]
  },
  {
   "cell_type": "code",
   "execution_count": 29,
   "metadata": {},
   "outputs": [
    {
     "name": "stderr",
     "output_type": "stream",
     "text": [
      "\n",
      "\n",
      "  0%|          | 0/10 [00:00<?, ?it/s]\u001b[A\u001b[A\n",
      "\n",
      " 10%|█         | 1/10 [08:42<1:18:22, 522.52s/it]\u001b[A\u001b[A\n",
      "\n",
      " 20%|██        | 2/10 [17:23<1:09:33, 521.73s/it]\u001b[A\u001b[A\n",
      "\n",
      " 30%|███       | 3/10 [26:07<1:00:56, 522.40s/it]\u001b[A\u001b[A\n",
      "\n",
      " 40%|████      | 4/10 [34:47<52:11, 521.92s/it]  \u001b[A\u001b[A\n",
      "\n",
      " 50%|█████     | 5/10 [43:27<43:27, 521.45s/it]\u001b[A\u001b[A\n",
      "\n",
      " 60%|██████    | 6/10 [52:07<34:44, 521.18s/it]\u001b[A\u001b[A\n",
      "\n",
      " 70%|███████   | 7/10 [1:00:36<25:58, 519.45s/it]\u001b[A\u001b[A\n",
      "\n",
      " 80%|████████  | 8/10 [1:09:35<17:23, 521.90s/it]\u001b[A\u001b[A\n",
      "\n",
      " 90%|█████████ | 9/10 [1:18:14<08:41, 521.60s/it]\u001b[A\u001b[A\n",
      "\n",
      "100%|██████████| 10/10 [1:26:57<00:00, 521.70s/it]\u001b[A\u001b[A\n",
      "\n",
      "\u001b[A\u001b[A"
     ]
    },
    {
     "name": "stdout",
     "output_type": "stream",
     "text": [
      "finish, val_acc: 89.68\n"
     ]
    }
   ],
   "source": [
    "max_vocab_size = 50000\n",
    "learning_rate = 0.001\n",
    "num_epochs = 10\n",
    "emb_dim = 300\n",
    "\n",
    "\n",
    "PAD_IDX = 0\n",
    "UNK_IDX = 1\n",
    "all_train_features = list(itertools.chain.from_iterable(train_features))\n",
    "\n",
    "builder = word2index(PAD_IDX, UNK_IDX)\n",
    "#build vocab\n",
    "token2id, id2token = builder.build_vocab(all_train_features, max_vocab_size)\n",
    "train_data_indices = builder.token2index_dataset(train_features)\n",
    "val_data_indices = builder.token2index_dataset(val_features)\n",
    "test_data_indices = builder.token2index_dataset(test_features)\n",
    "\n",
    "\n",
    "# create pytorch dataloader\n",
    "BATCH_SIZE = 64\n",
    "train_dataset = IMDbDataset(train_data_indices, train_label)\n",
    "train_loader = torch.utils.data.DataLoader(dataset=train_dataset, \n",
    "                                           batch_size=BATCH_SIZE,\n",
    "                                           collate_fn=imdb_collate_func,\n",
    "                                           shuffle=True)\n",
    "\n",
    "val_dataset = IMDbDataset(val_data_indices, val_label)\n",
    "val_loader = torch.utils.data.DataLoader(dataset=val_dataset, \n",
    "                                           batch_size=BATCH_SIZE,\n",
    "                                           collate_fn=imdb_collate_func,\n",
    "                                           shuffle=True)\n",
    "\n",
    "test_dataset = IMDbDataset(test_data_indices, test_label)\n",
    "test_loader = torch.utils.data.DataLoader(dataset=test_dataset, \n",
    "                                           batch_size=BATCH_SIZE,\n",
    "                                           collate_fn=imdb_collate_func,\n",
    "                                           shuffle=False)\n",
    "\n",
    "model = BagOfWords(len(id2token), emb_dim)\n",
    "\n",
    "# Criterion and Optimizer\n",
    "criterion = torch.nn.CrossEntropyLoss()  \n",
    "optimizer = torch.optim.Adam(model.parameters(), lr = learning_rate)\n",
    "val_acc_list_2 = []\n",
    "for epoch in tqdm.trange(num_epochs):\n",
    "    for i, (data, lengths, labels) in enumerate(train_loader):\n",
    "        model.train()\n",
    "        data_batch, length_batch, label_batch = data, lengths, labels\n",
    "        optimizer.zero_grad()\n",
    "        outputs = model(data_batch, length_batch)\n",
    "        loss = criterion(outputs, label_batch)\n",
    "        loss.backward()\n",
    "        val_acc = test_model(val_loader, model)\n",
    "        optimizer.step()\n",
    "\n",
    "    val_acc_list_2.append(val_acc)\n",
    "\n",
    "print('finish, val_acc: %s' %(test_model(val_loader, model)))"
   ]
  },
  {
   "cell_type": "code",
   "execution_count": 35,
   "metadata": {},
   "outputs": [
    {
     "data": {
      "text/plain": [
       "Text(0.5,1,'final model')"
      ]
     },
     "execution_count": 35,
     "metadata": {},
     "output_type": "execute_result"
    },
    {
     "data": {
      "image/png": "[encoded data removed]",
      "text/plain": [
       "<Figure size 432x288 with 1 Axes>"
      ]
     },
     "metadata": {
      "needs_background": "light"
     },
     "output_type": "display_data"
    }
   ],
   "source": [
    "plt.plot(np.arange(1,num_epochs+1), val_acc_list_2)\n",
    "plt.ylabel('validation accuracy')\n",
    "plt.xlabel('epochs')\n",
    "plt.title('final model')"
   ]
  },
  {
   "cell_type": "code",
   "execution_count": 36,
   "metadata": {},
   "outputs": [
    {
     "name": "stdout",
     "output_type": "stream",
     "text": [
      "After training for 10 epochs\n",
      "Val Acc 89.68\n",
      "Test Acc 87.872\n"
     ]
    }
   ],
   "source": [
    "print (\"After training for {} epochs\".format(num_epochs))\n",
    "print (\"Val Acc {}\".format(test_model(val_loader, model)))\n",
    "print (\"Test Acc {}\".format(test_model(test_loader, model)))"
   ]
  },
  {
   "cell_type": "code",
   "execution_count": 57,
   "metadata": {},
   "outputs": [],
   "source": [
    "from IPython.display import Markdown, display\n",
    "def printmd(string):\n",
    "    display(Markdown(string))"
   ]
  },
  {
   "cell_type": "code",
   "execution_count": 64,
   "metadata": {},
   "outputs": [
    {
     "name": "stdout",
     "output_type": "stream",
     "text": [
      "Correct Prediction:\n"
     ]
    },
    {
     "data": {
      "text/markdown": [
       "**True label: pos**"
      ],
      "text/plain": [
       "<IPython.core.display.Markdown object>"
      ]
     },
     "metadata": {},
     "output_type": "display_data"
    },
    {
     "name": "stdout",
     "output_type": "stream",
     "text": [
      "I enjoyed this movie,and after watching it,it made me wonder just how many 'Caitlin Rose's' exist in the world.How many other girls have been subjected to this sort of sexual abuse,and torment by classmates and have been too frightened to open their mouth about it? Just how threatening and cruel can teenagers be towards one another,because as this film demonstrates,who's right is not foremost important,its who is popular,and feared which manipulates the minds of youths,and influences them to allow this sort of immorality to happen.Tiffani Amber Thiessen gives a powerful performance as the rape victim,and Brian Austin Green is convincing as the guy torn between the girl he thought he loved,and his best friend.This is the kind of film that doesn't get the exposure it deserves.Remarkable,and brilliant,too good to be just a film made for TV.\n"
     ]
    },
    {
     "data": {
      "text/markdown": [
       "**True label: pos**"
      ],
      "text/plain": [
       "<IPython.core.display.Markdown object>"
      ]
     },
     "metadata": {},
     "output_type": "display_data"
    },
    {
     "name": "stdout",
     "output_type": "stream",
     "text": [
      "Although critically maligned, Johnny Dangerously is one of the funniest movies I've ever seen. It's a movie that should be watched closely; some of the funny bits are done in passing and do not have the usual amount of attention drawn to them. For instance, keep an eye on Michael Keaton's use of the pricing gun at the pet store...and also on the documentary-style years that appear at the beginning of scenes. It's one of those rare movies where the humor hits you unexpectedly, even though you know it's a comedy. Amy Heckerling, the director, is really sharp here--If you enjoyed her better known films (Fast Times at Ridgemont High, Clueless, European Vacation, etc.,)you should give this one a look.<br /><br />Michael Keaton is extremely likable in the title role and the supporting cast (Griffin Dunne, Maureen Stapleton, Joe Piscopo, Peter Boyle) is excellent. Highly recommended.\n"
     ]
    },
    {
     "data": {
      "text/markdown": [
       "**True label: pos**"
      ],
      "text/plain": [
       "<IPython.core.display.Markdown object>"
      ]
     },
     "metadata": {},
     "output_type": "display_data"
    },
    {
     "name": "stdout",
     "output_type": "stream",
     "text": [
      "This is a film that everyone should watch. Quite apart from raising hugely important points (while South Africa is on the road to recovery there are still many countries in similar situations now), it is superbly directed while Denzel Washington gives, in my opinion, the best performance in his career so far. Kline also gives a good performance, although perhaps not as stunning as Washington's. John Thaw also puts in a good turn as the Chief of Police.<br /><br />There are so many possible areas where a film on apartheid could fall down, but all of these have been avoided. It would be easy to simply portray white people as the bad guys and black people as the good guys, but Attenborough has not done this. Sure, there were some white characters who seemed inherently evil, such as the Captain at the Soweto uprising, but to add extra dimensions to all the characters would make the film unbearably long. Some people complain about the length of the film as it is, but I think it needs the whole two and a half hours to tell the whole story, for it really is an incredible one.<br /><br />The best scene in the film is that of Steve Biko's funeral. When the whole crowd begins to sing the South African national anthem, it is probably one of, if not the most moving scenes I have seen.<br /><br />If you haven't seen this film already: watch it. It may not be comfortable viewing, but it's certainly worth it.\n",
      "Wrong Prediction:\n"
     ]
    },
    {
     "data": {
      "text/markdown": [
       "**True label: neg**"
      ],
      "text/plain": [
       "<IPython.core.display.Markdown object>"
      ]
     },
     "metadata": {},
     "output_type": "display_data"
    },
    {
     "name": "stdout",
     "output_type": "stream",
     "text": [
      "This oddity in the new DORIS DAY COLLECTION doesn't really need to be included as she is only in the film for less than 30 minutes. What she does do however, is shine when she's on screen. The near plot less movie is just an excuse to showcase some Warner contract players of the day. JANCIE RULE shows promise and it's a shame she didn't become a big star. RUTH ROMAN handles the role of the \"go-getter\" with aplomb. Better if this was in color. The Travis Air force base locations with some rear projection work well. What's best about the movie are some wonderful musical interludes. If you enjoyed THANK YOUR LUCKY STARS and Hollywood CANTEEN you'll like this one.\n"
     ]
    },
    {
     "data": {
      "text/markdown": [
       "**True label: neg**"
      ],
      "text/plain": [
       "<IPython.core.display.Markdown object>"
      ]
     },
     "metadata": {},
     "output_type": "display_data"
    },
    {
     "name": "stdout",
     "output_type": "stream",
     "text": [
      "Philip. K. Dickian movie. And a decent one for that matter. Better than the Paycheck (Woo) and that abomination called Minority Report (Spielberg). But lets face it, the twisting and cheesing ending was a bit too much for me. Half way through the movie I already started to fear about such kind of ending, and I was regrettably right. But that does not mean that the film is not worth its time. No, not at all. First half (as already many here have commented) is awesome. There are some parts where you start to doubt whether the director intended to convey the message that showmanship is highly important thing in the future (we will do such kind on corny sf things because we CAN) or is it simply over combining. But the paranoia is there and feeling \"out of joint\" also. Good one.\n"
     ]
    },
    {
     "data": {
      "text/markdown": [
       "**True label: pos**"
      ],
      "text/plain": [
       "<IPython.core.display.Markdown object>"
      ]
     },
     "metadata": {},
     "output_type": "display_data"
    },
    {
     "name": "stdout",
     "output_type": "stream",
     "text": [
      "This musical is decidedly mixed, and none of the elements really fit together, but it somehow manages to be mostly enjoyable. The plot contains some of the elements of Wodehouse's novel, but none of its virtues, though he co-wrote the script. The songs, though charming, have nothing to do with this particular film, and are unusually crudely squeezed into the plot, even by pre-Oklahoma standards. Burns and Allen do their usual shtick quite competently, but it misses the tone of the rest of the film by about forty IQ points.<br /><br />There are a few high points. Reginald Gardiner does good work when he remembers that this is a talkie, and stops mugging like a silent actor. And there are a few bits of writing which could only have been written by Wodehouse, though most of the film feels like the production of one of the Hollywood meetings he later parodied.\n"
     ]
    }
   ],
   "source": [
    "#3 correct and 3 wrong prediction on validation set\n",
    "import torch.nn.functional as F\n",
    "val_text = pk.load(open('val_text.pk', 'rb'))\n",
    "\n",
    "val_dataset = IMDbDataset(val_data_indices, val_label)\n",
    "val_loader = torch.utils.data.DataLoader(dataset=val_dataset, \n",
    "                                           batch_size=BATCH_SIZE,\n",
    "                                           collate_fn=imdb_collate_func,\n",
    "                                           shuffle=False)\n",
    "\n",
    "model.eval()\n",
    "for data, lengths, labels in val_loader:\n",
    "    data_batch, length_batch, label_batch = data, lengths, labels\n",
    "    outputs = F.softmax(model(data_batch, length_batch), dim=1)\n",
    "    predicted = outputs.max(1, keepdim=True)[1]\n",
    "    result = np.array(predicted.eq(labels.view_as(predicted)))\n",
    "    correct = np.argwhere(result==1)[:,0]\n",
    "    wrong = np.argwhere(result==0)[:,0]\n",
    "    break\n",
    "\n",
    "print('Correct Prediction:')\n",
    "for i in correct[:3]:\n",
    "    if int(label_batch[i]) == 1: label = 'pos'\n",
    "    else: label = 'neg'\n",
    "    \n",
    "    printmd('**True label: %s**' %label)\n",
    "    print(val_text[i])\n",
    "\n",
    "print('Wrong Prediction:')\n",
    "for i in wrong[[0,2,3]]: #wrong[1] is too long\n",
    "    if int(label_batch[i]) == 1: label = 'pos'\n",
    "    else: label = 'neg'\n",
    "    \n",
    "    printmd('**True label: %s**' %label)\n",
    "    print(val_text[i])"
   ]
  }
 ],
 "metadata": {
  "kernelspec": {
   "display_name": "Python 3",
   "language": "python",
   "name": "python3"
  },
  "language_info": {
   "codemirror_mode": {
    "name": "ipython",
    "version": 3
   },
   "file_extension": ".py",
   "mimetype": "text/x-python",
   "name": "python",
   "nbconvert_exporter": "python",
   "pygments_lexer": "ipython3",
   "version": "3.6.5"
  }
 },
 "nbformat": 4,
 "nbformat_minor": 2
}
